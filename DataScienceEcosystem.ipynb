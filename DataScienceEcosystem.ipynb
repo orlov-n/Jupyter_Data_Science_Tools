{
 "cells": [
  {
   "cell_type": "markdown",
   "id": "1f911d7a-6a22-4e2b-a58b-dbdcadebdcde",
   "metadata": {},
   "source": [
    "# Data Science Tools and Ecosystem"
   ]
  },
  {
   "cell_type": "markdown",
   "id": "f05f507a-216e-475e-9471-ba79a60d8d2e",
   "metadata": {},
   "source": [
    "In this notebook, Data Science Tools and Ecosystem are summarized."
   ]
  },
  {
   "cell_type": "markdown",
   "id": "b2c1a137-b65d-4fd4-9e0e-463a6f7b75c8",
   "metadata": {},
   "source": [
    "Objectives:\n",
    "* List popular languages for Data Science\n",
    "* List some of the commonly used libraries used by Data Scientists\n",
    "* Explore arithmetic expression\n",
    "* Learn tables\n"
   ]
  },
  {
   "cell_type": "markdown",
   "id": "75d59f7d-8bae-4516-b6ed-6497274aa060",
   "metadata": {
    "tags": []
   },
   "source": [
    "Some of the popular languages that Data Scientists use are:\n",
    "    1. Python\n",
    "    2. SQL\n",
    "    3. R\n",
    "    4. JavaScript"
   ]
  },
  {
   "cell_type": "markdown",
   "id": "91d9942d-20c7-4446-94e7-1207f8f32c03",
   "metadata": {},
   "source": [
    "Some of the commonly used libraries used by Data Scientists include:\n",
    "    1. NumPy\n",
    "    2. Pandas\n",
    "    3. Seaborn\n"
   ]
  },
  {
   "cell_type": "markdown",
   "id": "adfa514a-c19d-477c-a6e3-985a64b1a0bb",
   "metadata": {},
   "source": [
    "| Data Science Tools                   |\n",
    "|--------------------------------------|\n",
    "| Jupyter Notebook                     |\n",
    "| RStudio                              |\n",
    "| Apache Zeppelin                      |\n"
   ]
  },
  {
   "cell_type": "markdown",
   "id": "095ef2fd-0811-4320-805f-f64d77e796b4",
   "metadata": {},
   "source": [
    "### Below are a few examples of evaluating arithmetic expressions in Python"
   ]
  },
  {
   "cell_type": "markdown",
   "id": "a69fa9e8-8bbe-4ad5-9741-fcbadf106cfb",
   "metadata": {},
   "source": [
    "This a simple arithmetic expression to multiply then add integers"
   ]
  },
  {
   "cell_type": "code",
   "execution_count": 4,
   "id": "74bfe708-4724-474e-ad3e-b62ada489d2e",
   "metadata": {
    "tags": []
   },
   "outputs": [
    {
     "data": {
      "text/plain": [
       "17"
      ]
     },
     "execution_count": 4,
     "metadata": {},
     "output_type": "execute_result"
    }
   ],
   "source": [
    "\n",
    "(3*4)+5"
   ]
  },
  {
   "cell_type": "markdown",
   "id": "9e28347a-88ad-440c-b50e-23fbd69da925",
   "metadata": {},
   "source": [
    "This will convert 200 minutes to hours by diving by 60"
   ]
  },
  {
   "cell_type": "code",
   "execution_count": 5,
   "id": "227922d2-f0ce-45b5-89a2-346b79822ce9",
   "metadata": {
    "tags": []
   },
   "outputs": [
    {
     "data": {
      "text/plain": [
       "3.3333333333333335"
      ]
     },
     "execution_count": 5,
     "metadata": {},
     "output_type": "execute_result"
    }
   ],
   "source": [
    "200 / 60"
   ]
  },
  {
   "cell_type": "markdown",
   "id": "935b1acc-30b4-457d-b9f0-c092c7134dc8",
   "metadata": {},
   "source": [
    "## Author\n",
    "Nick Orlo"
   ]
  }
 ],
 "metadata": {
  "kernelspec": {
   "display_name": "Python",
   "language": "python",
   "name": "conda-env-python-py"
  },
  "language_info": {
   "codemirror_mode": {
    "name": "ipython",
    "version": 3
   },
   "file_extension": ".py",
   "mimetype": "text/x-python",
   "name": "python",
   "nbconvert_exporter": "python",
   "pygments_lexer": "ipython3",
   "version": "3.7.12"
  }
 },
 "nbformat": 4,
 "nbformat_minor": 5
}
